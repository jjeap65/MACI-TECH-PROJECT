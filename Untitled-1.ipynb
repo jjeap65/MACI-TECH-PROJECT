{
 "cells": [
  {
   "cell_type": "code",
   "execution_count": 2,
   "id": "8831452a",
   "metadata": {},
   "outputs": [],
   "source": [
    "import numpy as np\n",
    "import pandas as pd\n"
   ]
  },
  {
   "cell_type": "markdown",
   "id": "de890a1a",
   "metadata": {},
   "source": [
    "## cned"
   ]
  },
  {
   "cell_type": "code",
   "execution_count": null,
   "id": "98064ede",
   "metadata": {},
   "outputs": [
    {
     "name": "stderr",
     "output_type": "stream",
     "text": [
      "C:\\Users\\jccaro\\AppData\\Local\\Temp\\ipykernel_14344\\3810295876.py:2: DtypeWarning: Columns (3,19,20,22) have mixed types. Specify dtype option on import or set low_memory=False.\n",
      "  base = pd.read_csv('data/cned/baseindices_2005-2019_0.csv')\n"
     ]
    }
   ],
   "source": [
    "cned = pd.read_csv('data/cned/cned.csv')\n",
    "base = pd.read_csv('data/cned/baseindices_2005-2019_0.csv')\n"
   ]
  },
  {
   "cell_type": "markdown",
   "id": "6f56e208",
   "metadata": {},
   "source": [
    "## geo"
   ]
  },
  {
   "cell_type": "code",
   "execution_count": 8,
   "id": "45209b7c",
   "metadata": {},
   "outputs": [],
   "source": [
    "geo = pd.read_csv('data/geo/geo_rbd.csv')\n"
   ]
  },
  {
   "cell_type": "markdown",
   "id": "ee3d38fb",
   "metadata": {},
   "source": [
    "## mn"
   ]
  },
  {
   "cell_type": "code",
   "execution_count": 11,
   "id": "c787c3e0",
   "metadata": {},
   "outputs": [],
   "source": [
    "df1 = pd.read_csv('data/mn/1m2017.csv')\n",
    "df2 = pd.read_csv('data/mn/mn_5p_2017b.csv')"
   ]
  },
  {
   "cell_type": "markdown",
   "id": "4f88acbb",
   "metadata": {},
   "source": [
    "## sned\n"
   ]
  },
  {
   "cell_type": "code",
   "execution_count": 13,
   "id": "7cd02d9f",
   "metadata": {},
   "outputs": [],
   "source": [
    "# df3 = pd.read_csv('data/sned/20161019_SNED_2016_2017.csv')\n",
    "sned = pd.read_csv('data/sned/sned.csv')"
   ]
  },
  {
   "cell_type": "markdown",
   "id": "7e0407b6",
   "metadata": {},
   "source": [
    "## viz"
   ]
  },
  {
   "cell_type": "code",
   "execution_count": 14,
   "id": "97b7c63c",
   "metadata": {},
   "outputs": [],
   "source": [
    "boxplot = pd.read_csv('data/viz/boxplot.csv')"
   ]
  }
 ],
 "metadata": {
  "kernelspec": {
   "display_name": "Python 3",
   "language": "python",
   "name": "python3"
  },
  "language_info": {
   "codemirror_mode": {
    "name": "ipython",
    "version": 3
   },
   "file_extension": ".py",
   "mimetype": "text/x-python",
   "name": "python",
   "nbconvert_exporter": "python",
   "pygments_lexer": "ipython3",
   "version": "3.13.7"
  }
 },
 "nbformat": 4,
 "nbformat_minor": 5
}
